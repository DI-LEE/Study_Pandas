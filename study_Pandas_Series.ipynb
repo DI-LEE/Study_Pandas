{
 "cells": [
  {
   "cell_type": "markdown",
   "id": "ab64d7d9",
   "metadata": {},
   "source": [
    "# Pandas\n",
    "* provide two convenient data structures for storing and manipulating data--**Series** and **DataFrame**\n",
    "    * Seires is similar to one-dimension array\n",
    "    * Pandas is similar to representing a matrix or a spreadsheet table"
   ]
  },
  {
   "cell_type": "code",
   "execution_count": 9,
   "id": "67678dc4",
   "metadata": {},
   "outputs": [],
   "source": [
    "import pandas as pd\n",
    "import numpy as np"
   ]
  },
  {
   "cell_type": "markdown",
   "id": "860423e7",
   "metadata": {},
   "source": [
    "## Series\n",
    "* 1차원 데이터\n",
    "* list, numpy array, dictionary 로 생성 가능\n",
    "* numpy 의 함수기능과 거의 유사"
   ]
  },
  {
   "cell_type": "code",
   "execution_count": 6,
   "id": "48ca4ca6",
   "metadata": {},
   "outputs": [
    {
     "name": "stdout",
     "output_type": "stream",
     "text": [
      "0    3.1\n",
      "1    2.4\n",
      "2   -1.7\n",
      "3    0.2\n",
      "4   -2.9\n",
      "5    4.5\n",
      "dtype: float64\n"
     ]
    }
   ],
   "source": [
    "s = pd.Series([3.1, 2.4, -1.7, 0.2, -2.9, 4.5])\n",
    "print(s)"
   ]
  },
  {
   "cell_type": "markdown",
   "id": "595f57ce",
   "metadata": {},
   "source": [
    "* value\n",
    "* Index\n",
    "* mean"
   ]
  },
  {
   "cell_type": "code",
   "execution_count": 8,
   "id": "bb72d4a1",
   "metadata": {},
   "outputs": [
    {
     "name": "stdout",
     "output_type": "stream",
     "text": [
      "Value=  [ 3.1  2.4 -1.7  0.2 -2.9  4.5]\n",
      "Index=  RangeIndex(start=0, stop=6, step=1)\n",
      "mean=  0.9333333333333332\n"
     ]
    }
   ],
   "source": [
    "print(\"Value= \", s.values)\n",
    "print(\"Index= \", s.index)\n",
    "print(\"mean= \", s.mean())"
   ]
  },
  {
   "cell_type": "code",
   "execution_count": 14,
   "id": "f6fc6be5",
   "metadata": {},
   "outputs": [
    {
     "name": "stdout",
     "output_type": "stream",
     "text": [
      "0    0.244615\n",
      "1    0.312537\n",
      "2    0.378685\n",
      "3    1.502895\n",
      "4    0.524542\n",
      "5   -1.101552\n",
      "dtype: float64\n",
      "Values=  [ 0.24461459  0.31253709  0.37868479  1.50289522  0.52454168 -1.10155188]\n",
      "Index=  RangeIndex(start=0, stop=6, step=1)\n",
      "mean=  0.3102869159495346\n"
     ]
    }
   ],
   "source": [
    "s2 = pd.Series(np.random.randn(6))\n",
    "print(s2)\n",
    "print(\"Values= \", s2.values)\n",
    "print(\"Index= \", s2.index)\n",
    "print(\"mean= \", s2.mean())"
   ]
  },
  {
   "cell_type": "markdown",
   "id": "24ab32db",
   "metadata": {},
   "source": [
    "Series 에 index 부여\n",
    "* 위치정보에 labeling"
   ]
  },
  {
   "cell_type": "code",
   "execution_count": 19,
   "id": "29c4bd46",
   "metadata": {
    "scrolled": true
   },
   "outputs": [
    {
     "name": "stdout",
     "output_type": "stream",
     "text": [
      "Jan1    1.2\n",
      "Jan2    2.5\n",
      "Jan3   -2.2\n",
      "Jan4    3.1\n",
      "Jan5   -0.8\n",
      "Jan6   -3.2\n",
      "dtype: float64\n",
      "Values=  [ 1.2  2.5 -2.2  3.1 -0.8 -3.2]\n",
      "Index=  Index(['Jan1', 'Jan2', 'Jan3', 'Jan4', 'Jan5', 'Jan6'], dtype='object')\n"
     ]
    }
   ],
   "source": [
    "s3 = pd.Series([1.2, 2.5, -2.2, 3.1, -0.8, -3.2],\n",
    "              index=['Jan1', 'Jan2', 'Jan3', 'Jan4', 'Jan5', 'Jan6'])\n",
    "print(s3)\n",
    "print(\"Values= \", s3.values)\n",
    "print(\"Index= \", s3.index)"
   ]
  },
  {
   "cell_type": "markdown",
   "id": "b9d71c7e",
   "metadata": {},
   "source": [
    "Series with Dictionary"
   ]
  },
  {
   "cell_type": "code",
   "execution_count": 22,
   "id": "98cea60f",
   "metadata": {},
   "outputs": [
    {
     "name": "stdout",
     "output_type": "stream",
     "text": [
      "MI       Lansing\n",
      "CA    Sacramento\n",
      "TX        Austin\n",
      "MN       St Paul\n",
      "dtype: object\n",
      "Values=  ['Lansing' 'Sacramento' 'Austin' 'St Paul']\n",
      "Index=  Index(['MI', 'CA', 'TX', 'MN'], dtype='object')\n"
     ]
    }
   ],
   "source": [
    "capitals = {'MI': 'Lansing', 'CA': 'Sacramento', 'TX': 'Austin', 'MN': 'St Paul'}\n",
    "\n",
    "s4 = pd.Series(capitals)\n",
    "print(s4)\n",
    "print('Values= ', s4.values)\n",
    "print('Index= ', s4.index)"
   ]
  },
  {
   "cell_type": "markdown",
   "id": "566cec18",
   "metadata": {},
   "source": [
    "access element of a Series\n",
    "* iloc\n",
    "* loc"
   ]
  },
  {
   "cell_type": "code",
   "execution_count": 24,
   "id": "5feda384",
   "metadata": {
    "scrolled": true
   },
   "outputs": [
    {
     "name": "stdout",
     "output_type": "stream",
     "text": [
      "Jan1    1.2\n",
      "Jan2    2.5\n",
      "Jan3   -2.2\n",
      "Jan4    3.1\n",
      "Jan5   -0.8\n",
      "Jan6   -3.2\n",
      "dtype: float64\n"
     ]
    }
   ],
   "source": [
    "s3 = pd.Series([1.2, 2.5, -2.2, 3.1, -0.8, -3.2],\n",
    "              index=['Jan1', 'Jan2', 'Jan3', 'Jan4', 'Jan5', 'Jan6'])\n",
    "print(s3)"
   ]
  },
  {
   "cell_type": "code",
   "execution_count": 32,
   "id": "16f07a21",
   "metadata": {},
   "outputs": [
    {
     "name": "stdout",
     "output_type": "stream",
     "text": [
      "-2.2\n",
      "-2.2\n"
     ]
    }
   ],
   "source": [
    "print(s3.iloc[2])\n",
    "print(s3[2])"
   ]
  },
  {
   "cell_type": "code",
   "execution_count": 35,
   "id": "281ffa5d",
   "metadata": {},
   "outputs": [
    {
     "name": "stdout",
     "output_type": "stream",
     "text": [
      "Jan2    2.5\n",
      "Jan3   -2.2\n",
      "dtype: float64\n"
     ]
    }
   ],
   "source": [
    "print(s3.iloc[1:3])"
   ]
  },
  {
   "cell_type": "code",
   "execution_count": 37,
   "id": "1915a9b7",
   "metadata": {},
   "outputs": [
    {
     "name": "stdout",
     "output_type": "stream",
     "text": [
      "-2.2\n",
      "-2.2\n"
     ]
    }
   ],
   "source": [
    "print(s3['Jan3'])\n",
    "print(s3.loc['Jan3'])"
   ]
  },
  {
   "cell_type": "markdown",
   "id": "1c218520",
   "metadata": {},
   "source": [
    "* shape\n",
    "* size"
   ]
  },
  {
   "cell_type": "code",
   "execution_count": 39,
   "id": "03c670fd",
   "metadata": {},
   "outputs": [
    {
     "name": "stdout",
     "output_type": "stream",
     "text": [
      "shape =  (6,)\n",
      "size=  6\n"
     ]
    }
   ],
   "source": [
    "print('shape = ', s3.shape)\n",
    "print('size= ', s3.size)"
   ]
  },
  {
   "cell_type": "markdown",
   "id": "47126936",
   "metadata": {},
   "source": [
    "* filter"
   ]
  },
  {
   "cell_type": "code",
   "execution_count": 40,
   "id": "25ca0e5b",
   "metadata": {
    "scrolled": false
   },
   "outputs": [
    {
     "name": "stdout",
     "output_type": "stream",
     "text": [
      "Jan1    1.2\n",
      "Jan2    2.5\n",
      "Jan4    3.1\n",
      "dtype: float64\n"
     ]
    }
   ],
   "source": [
    "print(s3[s3>0])"
   ]
  },
  {
   "cell_type": "markdown",
   "id": "8935ae22",
   "metadata": {},
   "source": [
    "* scalar operation\n",
    "\n",
    "**broadcasting**"
   ]
  },
  {
   "cell_type": "code",
   "execution_count": 42,
   "id": "e369518f",
   "metadata": {},
   "outputs": [
    {
     "name": "stdout",
     "output_type": "stream",
     "text": [
      "Jan1    5.2\n",
      "Jan2    6.5\n",
      "Jan3    1.8\n",
      "Jan4    7.1\n",
      "Jan5    3.2\n",
      "Jan6    0.8\n",
      "dtype: float64\n",
      "\n",
      "Jan1    0.300\n",
      "Jan2    0.625\n",
      "Jan3   -0.550\n",
      "Jan4    0.775\n",
      "Jan5   -0.200\n",
      "Jan6   -0.800\n",
      "dtype: float64\n"
     ]
    }
   ],
   "source": [
    "print(s3 + 4)\n",
    "print()\n",
    "print(s3 / 4)"
   ]
  },
  {
   "cell_type": "code",
   "execution_count": 44,
   "id": "224a49e3",
   "metadata": {},
   "outputs": [
    {
     "name": "stdout",
     "output_type": "stream",
     "text": [
      "Jan1    1.648659\n",
      "Jan2    1.871802\n",
      "Jan3    0.587787\n",
      "Jan4    1.960095\n",
      "Jan5    1.163151\n",
      "Jan6   -0.223144\n",
      "dtype: float64\n"
     ]
    }
   ],
   "source": [
    "print(np.log(s3+4))"
   ]
  }
 ],
 "metadata": {
  "kernelspec": {
   "display_name": "Python 3 (ipykernel)",
   "language": "python",
   "name": "python3"
  },
  "language_info": {
   "codemirror_mode": {
    "name": "ipython",
    "version": 3
   },
   "file_extension": ".py",
   "mimetype": "text/x-python",
   "name": "python",
   "nbconvert_exporter": "python",
   "pygments_lexer": "ipython3",
   "version": "3.9.7"
  }
 },
 "nbformat": 4,
 "nbformat_minor": 5
}

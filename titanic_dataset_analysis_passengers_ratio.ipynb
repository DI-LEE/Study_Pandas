{
 "cells": [
  {
   "cell_type": "markdown",
   "id": "16cd48bf",
   "metadata": {},
   "source": [
    "# Titanic dataset analysis\n",
    "* About passengers ratio"
   ]
  },
  {
   "cell_type": "code",
   "execution_count": 2,
   "id": "67943a8e",
   "metadata": {},
   "outputs": [],
   "source": [
    "import pandas as pd\n",
    "import matplotlib.pyplot as plt "
   ]
  },
  {
   "cell_type": "code",
   "execution_count": 3,
   "id": "8e772c74",
   "metadata": {},
   "outputs": [],
   "source": [
    "titanic = pd.read_csv('titanic_dataset.csv')"
   ]
  },
  {
   "cell_type": "markdown",
   "id": "bcf34233",
   "metadata": {},
   "source": [
    "### Column explanation\n",
    "* pclass : Ticket class(1 == 1st, 2 == 2nd,,,)\n",
    "* survived : 0 == No, 1 == yes\n",
    "* name : Name\n",
    "* sex : {'male', 'female'}\n",
    "* age : Age\n",
    "* sibsp : # of siblings / spouses aboard the Titanic\n",
    "* parch : # of parents / chilren aboard the Titanic\n",
    "* ticket : Ticket number\n",
    "* cabin : Cabin number(객실번호)\n",
    "* embarked : Port of Embarkation (C == Cherbourg, Q = Queenstown,,,)\n",
    "* boat : boat # of survived passengers"
   ]
  },
  {
   "cell_type": "code",
   "execution_count": 4,
   "id": "a6b9565a",
   "metadata": {},
   "outputs": [
    {
     "data": {
      "text/html": [
       "<div>\n",
       "<style scoped>\n",
       "    .dataframe tbody tr th:only-of-type {\n",
       "        vertical-align: middle;\n",
       "    }\n",
       "\n",
       "    .dataframe tbody tr th {\n",
       "        vertical-align: top;\n",
       "    }\n",
       "\n",
       "    .dataframe thead th {\n",
       "        text-align: right;\n",
       "    }\n",
       "</style>\n",
       "<table border=\"1\" class=\"dataframe\">\n",
       "  <thead>\n",
       "    <tr style=\"text-align: right;\">\n",
       "      <th></th>\n",
       "      <th>pclass</th>\n",
       "      <th>survived</th>\n",
       "      <th>name</th>\n",
       "      <th>sex</th>\n",
       "      <th>age</th>\n",
       "      <th>sibsp</th>\n",
       "      <th>parch</th>\n",
       "      <th>ticket</th>\n",
       "      <th>fare</th>\n",
       "      <th>cabin</th>\n",
       "      <th>embarked</th>\n",
       "      <th>boat</th>\n",
       "      <th>body</th>\n",
       "      <th>home.dest</th>\n",
       "    </tr>\n",
       "  </thead>\n",
       "  <tbody>\n",
       "    <tr>\n",
       "      <th>0</th>\n",
       "      <td>1</td>\n",
       "      <td>1</td>\n",
       "      <td>Allen, Miss. Elisabeth Walton</td>\n",
       "      <td>female</td>\n",
       "      <td>29.0000</td>\n",
       "      <td>0</td>\n",
       "      <td>0</td>\n",
       "      <td>24160</td>\n",
       "      <td>211.3375</td>\n",
       "      <td>B5</td>\n",
       "      <td>S</td>\n",
       "      <td>2</td>\n",
       "      <td>NaN</td>\n",
       "      <td>St Louis, MO</td>\n",
       "    </tr>\n",
       "    <tr>\n",
       "      <th>1</th>\n",
       "      <td>1</td>\n",
       "      <td>1</td>\n",
       "      <td>Allison, Master. Hudson Trevor</td>\n",
       "      <td>male</td>\n",
       "      <td>0.9167</td>\n",
       "      <td>1</td>\n",
       "      <td>2</td>\n",
       "      <td>113781</td>\n",
       "      <td>151.5500</td>\n",
       "      <td>C22 C26</td>\n",
       "      <td>S</td>\n",
       "      <td>11</td>\n",
       "      <td>NaN</td>\n",
       "      <td>Montreal, PQ / Chesterville, ON</td>\n",
       "    </tr>\n",
       "    <tr>\n",
       "      <th>2</th>\n",
       "      <td>1</td>\n",
       "      <td>0</td>\n",
       "      <td>Allison, Miss. Helen Loraine</td>\n",
       "      <td>female</td>\n",
       "      <td>2.0000</td>\n",
       "      <td>1</td>\n",
       "      <td>2</td>\n",
       "      <td>113781</td>\n",
       "      <td>151.5500</td>\n",
       "      <td>C22 C26</td>\n",
       "      <td>S</td>\n",
       "      <td>NaN</td>\n",
       "      <td>NaN</td>\n",
       "      <td>Montreal, PQ / Chesterville, ON</td>\n",
       "    </tr>\n",
       "    <tr>\n",
       "      <th>3</th>\n",
       "      <td>1</td>\n",
       "      <td>0</td>\n",
       "      <td>Allison, Mr. Hudson Joshua Creighton</td>\n",
       "      <td>male</td>\n",
       "      <td>30.0000</td>\n",
       "      <td>1</td>\n",
       "      <td>2</td>\n",
       "      <td>113781</td>\n",
       "      <td>151.5500</td>\n",
       "      <td>C22 C26</td>\n",
       "      <td>S</td>\n",
       "      <td>NaN</td>\n",
       "      <td>135.0</td>\n",
       "      <td>Montreal, PQ / Chesterville, ON</td>\n",
       "    </tr>\n",
       "    <tr>\n",
       "      <th>4</th>\n",
       "      <td>1</td>\n",
       "      <td>0</td>\n",
       "      <td>Allison, Mrs. Hudson J C (Bessie Waldo Daniels)</td>\n",
       "      <td>female</td>\n",
       "      <td>25.0000</td>\n",
       "      <td>1</td>\n",
       "      <td>2</td>\n",
       "      <td>113781</td>\n",
       "      <td>151.5500</td>\n",
       "      <td>C22 C26</td>\n",
       "      <td>S</td>\n",
       "      <td>NaN</td>\n",
       "      <td>NaN</td>\n",
       "      <td>Montreal, PQ / Chesterville, ON</td>\n",
       "    </tr>\n",
       "  </tbody>\n",
       "</table>\n",
       "</div>"
      ],
      "text/plain": [
       "   pclass  survived                                             name     sex  \\\n",
       "0       1         1                    Allen, Miss. Elisabeth Walton  female   \n",
       "1       1         1                   Allison, Master. Hudson Trevor    male   \n",
       "2       1         0                     Allison, Miss. Helen Loraine  female   \n",
       "3       1         0             Allison, Mr. Hudson Joshua Creighton    male   \n",
       "4       1         0  Allison, Mrs. Hudson J C (Bessie Waldo Daniels)  female   \n",
       "\n",
       "       age  sibsp  parch  ticket      fare    cabin embarked boat   body  \\\n",
       "0  29.0000      0      0   24160  211.3375       B5        S    2    NaN   \n",
       "1   0.9167      1      2  113781  151.5500  C22 C26        S   11    NaN   \n",
       "2   2.0000      1      2  113781  151.5500  C22 C26        S  NaN    NaN   \n",
       "3  30.0000      1      2  113781  151.5500  C22 C26        S  NaN  135.0   \n",
       "4  25.0000      1      2  113781  151.5500  C22 C26        S  NaN    NaN   \n",
       "\n",
       "                         home.dest  \n",
       "0                     St Louis, MO  \n",
       "1  Montreal, PQ / Chesterville, ON  \n",
       "2  Montreal, PQ / Chesterville, ON  \n",
       "3  Montreal, PQ / Chesterville, ON  \n",
       "4  Montreal, PQ / Chesterville, ON  "
      ]
     },
     "execution_count": 4,
     "metadata": {},
     "output_type": "execute_result"
    }
   ],
   "source": [
    "titanic.head(5)"
   ]
  },
  {
   "cell_type": "markdown",
   "id": "5a880aa9",
   "metadata": {},
   "source": [
    "## sex ratio\n",
    "성별 비율"
   ]
  },
  {
   "cell_type": "code",
   "execution_count": 5,
   "id": "8babd7ba",
   "metadata": {
    "scrolled": true
   },
   "outputs": [
    {
     "data": {
      "text/plain": [
       "male      843\n",
       "female    466\n",
       "Name: sex, dtype: int64"
      ]
     },
     "execution_count": 5,
     "metadata": {},
     "output_type": "execute_result"
    }
   ],
   "source": [
    "titanic.sex.value_counts()"
   ]
  },
  {
   "cell_type": "markdown",
   "id": "532a3374",
   "metadata": {},
   "source": [
    "* count male"
   ]
  },
  {
   "cell_type": "code",
   "execution_count": 6,
   "id": "4b6a0600",
   "metadata": {
    "scrolled": false
   },
   "outputs": [
    {
     "data": {
      "text/plain": [
       "843"
      ]
     },
     "execution_count": 6,
     "metadata": {},
     "output_type": "execute_result"
    }
   ],
   "source": [
    "len(titanic[titanic.sex == 'male']['sex'])"
   ]
  },
  {
   "cell_type": "markdown",
   "id": "64cf5c07",
   "metadata": {},
   "source": [
    "* count female"
   ]
  },
  {
   "cell_type": "code",
   "execution_count": 7,
   "id": "06d18f1a",
   "metadata": {},
   "outputs": [
    {
     "data": {
      "text/plain": [
       "466"
      ]
     },
     "execution_count": 7,
     "metadata": {},
     "output_type": "execute_result"
    }
   ],
   "source": [
    "len(titanic[titanic.sex == 'female']['sex'])"
   ]
  },
  {
   "cell_type": "code",
   "execution_count": 8,
   "id": "f0557e26",
   "metadata": {},
   "outputs": [
    {
     "name": "stdout",
     "output_type": "stream",
     "text": [
      "male ratio : 64.40%\n",
      "female ratio : 35.60%\n"
     ]
    }
   ],
   "source": [
    "sex_count_male = len(titanic[titanic.sex == 'male']['sex'])\n",
    "sex_count_female = len(titanic[titanic.sex == 'female']['sex'])\n",
    "\n",
    "whole = len(titanic)\n",
    "\n",
    "print(\"male ratio : {0:.2f}%\".format(sex_count_male/whole*100))\n",
    "print(\"female ratio : {0:.2f}%\".format(sex_count_female/whole*100))"
   ]
  },
  {
   "cell_type": "code",
   "execution_count": 9,
   "id": "f3b58d15",
   "metadata": {},
   "outputs": [
    {
     "data": {
      "text/html": [
       "<div>\n",
       "<style scoped>\n",
       "    .dataframe tbody tr th:only-of-type {\n",
       "        vertical-align: middle;\n",
       "    }\n",
       "\n",
       "    .dataframe tbody tr th {\n",
       "        vertical-align: top;\n",
       "    }\n",
       "\n",
       "    .dataframe thead th {\n",
       "        text-align: right;\n",
       "    }\n",
       "</style>\n",
       "<table border=\"1\" class=\"dataframe\">\n",
       "  <thead>\n",
       "    <tr style=\"text-align: right;\">\n",
       "      <th></th>\n",
       "      <th>sex</th>\n",
       "    </tr>\n",
       "  </thead>\n",
       "  <tbody>\n",
       "    <tr>\n",
       "      <th>mael</th>\n",
       "      <td>843</td>\n",
       "    </tr>\n",
       "    <tr>\n",
       "      <th>female</th>\n",
       "      <td>466</td>\n",
       "    </tr>\n",
       "  </tbody>\n",
       "</table>\n",
       "</div>"
      ],
      "text/plain": [
       "        sex\n",
       "mael    843\n",
       "female  466"
      ]
     },
     "execution_count": 9,
     "metadata": {},
     "output_type": "execute_result"
    }
   ],
   "source": [
    "df = pd.DataFrame([sex_count_male, sex_count_female], columns=['sex'], index = ['mael', 'female'])\n",
    "df"
   ]
  },
  {
   "cell_type": "code",
   "execution_count": 10,
   "id": "cc3a86f1",
   "metadata": {},
   "outputs": [
    {
     "data": {
      "image/png": "[encoded data removed]",
      "text/plain": [
       "<Figure size 432x288 with 1 Axes>"
      ]
     },
     "metadata": {
      "needs_background": "light"
     },
     "output_type": "display_data"
    }
   ],
   "source": [
    "df.index.name = 'sex'\n",
    "ax = df.plot.bar()"
   ]
  },
  {
   "cell_type": "code",
   "execution_count": 11,
   "id": "10fdf092",
   "metadata": {
    "scrolled": true
   },
   "outputs": [
    {
     "data": {
      "image/png": "[encoded data removed]",
      "text/plain": [
       "<Figure size 432x288 with 1 Axes>"
      ]
     },
     "metadata": {},
     "output_type": "display_data"
    }
   ],
   "source": [
    "#matplotlib 사용\n",
    "plt.pie(df.sex, labels=['male', 'female'])\n",
    "plt.axis('equal')\n",
    "plt.title('sex ratio')\n",
    "plt.show()"
   ]
  },
  {
   "cell_type": "markdown",
   "id": "37fbd168",
   "metadata": {},
   "source": [
    "### comment\n",
    "* 타이타닉 호에 탑승한 남성 비율이 여성비율보다 높다."
   ]
  },
  {
   "cell_type": "markdown",
   "id": "b7f6d06d",
   "metadata": {},
   "source": [
    "## pclass ratio\n",
    "티켓 클래스별 비율"
   ]
  },
  {
   "cell_type": "code",
   "execution_count": 12,
   "id": "9f5e8183",
   "metadata": {
    "scrolled": true
   },
   "outputs": [
    {
     "data": {
      "text/plain": [
       "1    323\n",
       "2    277\n",
       "3    709\n",
       "Name: pclass, dtype: int64"
      ]
     },
     "execution_count": 12,
     "metadata": {},
     "output_type": "execute_result"
    }
   ],
   "source": [
    "titanic.pclass.value_counts().sort_index()"
   ]
  },
  {
   "cell_type": "markdown",
   "id": "6a0dd042",
   "metadata": {},
   "source": [
    "* count 1st class"
   ]
  },
  {
   "cell_type": "code",
   "execution_count": 13,
   "id": "b449d69d",
   "metadata": {
    "scrolled": true
   },
   "outputs": [
    {
     "data": {
      "text/plain": [
       "323"
      ]
     },
     "execution_count": 13,
     "metadata": {},
     "output_type": "execute_result"
    }
   ],
   "source": [
    "titanic.pclass.value_counts()[1] #[]안에 인덱스가 1부터 시작"
   ]
  },
  {
   "cell_type": "markdown",
   "id": "f89fb98d",
   "metadata": {},
   "source": [
    "* count 2nd class"
   ]
  },
  {
   "cell_type": "code",
   "execution_count": 14,
   "id": "4acd7927",
   "metadata": {
    "scrolled": true
   },
   "outputs": [
    {
     "data": {
      "text/plain": [
       "277"
      ]
     },
     "execution_count": 14,
     "metadata": {},
     "output_type": "execute_result"
    }
   ],
   "source": [
    "titanic.pclass.value_counts()[2]"
   ]
  },
  {
   "cell_type": "markdown",
   "id": "e747fb74",
   "metadata": {},
   "source": [
    "* count 3rd class"
   ]
  },
  {
   "cell_type": "code",
   "execution_count": 15,
   "id": "0d100dd7",
   "metadata": {},
   "outputs": [
    {
     "data": {
      "text/plain": [
       "709"
      ]
     },
     "execution_count": 15,
     "metadata": {},
     "output_type": "execute_result"
    }
   ],
   "source": [
    "titanic.pclass.value_counts()[3]"
   ]
  },
  {
   "cell_type": "code",
   "execution_count": 16,
   "id": "0af96dca",
   "metadata": {
    "scrolled": true
   },
   "outputs": [
    {
     "name": "stdout",
     "output_type": "stream",
     "text": [
      "1st class ratio :  24.68%\n",
      "2nd class ratio :  21.16%\n",
      "3rd class ratio :  54.16%\n"
     ]
    }
   ],
   "source": [
    "pclass_1_count = titanic.pclass.value_counts()[1]\n",
    "pclass_2_count = titanic.pclass.value_counts()[2]\n",
    "pclass_3_count = titanic.pclass.value_counts()[3]\n",
    "\n",
    "whole = len(titanic)\n",
    "\n",
    "print(\"1st class ratio : {0: .2f}%\".format(pclass_1_count/whole*100))\n",
    "print(\"2nd class ratio : {0: .2f}%\".format(pclass_2_count/whole*100))\n",
    "print(\"3rd class ratio : {0: .2f}%\".format(pclass_3_count/whole*100))"
   ]
  },
  {
   "cell_type": "code",
   "execution_count": 27,
   "id": "7e9b7901",
   "metadata": {
    "scrolled": true
   },
   "outputs": [
    {
     "data": {
      "text/html": [
       "<div>\n",
       "<style scoped>\n",
       "    .dataframe tbody tr th:only-of-type {\n",
       "        vertical-align: middle;\n",
       "    }\n",
       "\n",
       "    .dataframe tbody tr th {\n",
       "        vertical-align: top;\n",
       "    }\n",
       "\n",
       "    .dataframe thead th {\n",
       "        text-align: right;\n",
       "    }\n",
       "</style>\n",
       "<table border=\"1\" class=\"dataframe\">\n",
       "  <thead>\n",
       "    <tr style=\"text-align: right;\">\n",
       "      <th></th>\n",
       "      <th>pclass_count</th>\n",
       "    </tr>\n",
       "  </thead>\n",
       "  <tbody>\n",
       "    <tr>\n",
       "      <th>1</th>\n",
       "      <td>323</td>\n",
       "    </tr>\n",
       "    <tr>\n",
       "      <th>2</th>\n",
       "      <td>277</td>\n",
       "    </tr>\n",
       "    <tr>\n",
       "      <th>3</th>\n",
       "      <td>709</td>\n",
       "    </tr>\n",
       "  </tbody>\n",
       "</table>\n",
       "</div>"
      ],
      "text/plain": [
       "   pclass_count\n",
       "1           323\n",
       "2           277\n",
       "3           709"
      ]
     },
     "execution_count": 27,
     "metadata": {},
     "output_type": "execute_result"
    }
   ],
   "source": [
    "df = pd.DataFrame([pclass_1_count, pclass_2_count, pclass_3_count], columns=['pclass_count'], index=[1,2,3])\n",
    "df"
   ]
  },
  {
   "cell_type": "code",
   "execution_count": 31,
   "id": "3b478acc",
   "metadata": {
    "scrolled": true
   },
   "outputs": [
    {
     "data": {
      "image/png": "[encoded data removed]",
      "text/plain": [
       "<Figure size 432x288 with 1 Axes>"
      ]
     },
     "metadata": {
      "needs_background": "light"
     },
     "output_type": "display_data"
    }
   ],
   "source": [
    "#pandas 라이브러리 사용\n",
    "#클래스 높은 순으로 정렬\n",
    "df = df.sort_index(ascending = False)\n",
    "ax = df.plot.barh()"
   ]
  },
  {
   "cell_type": "code",
   "execution_count": 19,
   "id": "19af892a",
   "metadata": {
    "scrolled": true
   },
   "outputs": [
    {
     "data": {
      "image/png": "[encoded data removed]",
      "text/plain": [
       "<Figure size 432x288 with 1 Axes>"
      ]
     },
     "metadata": {},
     "output_type": "display_data"
    }
   ],
   "source": [
    "#matplotlib 사용\n",
    "plt.pie(df.pclass_count, labels=['1st','2nd','3rd'])\n",
    "plt.axis('equal')\n",
    "plt.title('pclass ratio')\n",
    "plt.show()"
   ]
  },
  {
   "cell_type": "markdown",
   "id": "fc70e17f",
   "metadata": {},
   "source": [
    "### comment\n",
    "* 3등석의 비율이 1등석과 2등석을 합친 비율보다 높다.\n",
    "* 1등석이 2등석보다 많다."
   ]
  }
 ],
 "metadata": {
  "kernelspec": {
   "display_name": "Python 3 (ipykernel)",
   "language": "python",
   "name": "python3"
  },
  "language_info": {
   "codemirror_mode": {
    "name": "ipython",
    "version": 3
   },
   "file_extension": ".py",
   "mimetype": "text/x-python",
   "name": "python",
   "nbconvert_exporter": "python",
   "pygments_lexer": "ipython3",
   "version": "3.9.12"
  }
 },
 "nbformat": 4,
 "nbformat_minor": 5
}
